{
 "cells": [
  {
   "cell_type": "code",
   "execution_count": 10,
   "id": "cb667ff2",
   "metadata": {},
   "outputs": [
    {
     "name": "stdout",
     "output_type": "stream",
     "text": [
      "Using device: mps\n"
     ]
    }
   ],
   "source": [
    "import torch\n",
    "\n",
    "# Check if MPS (Metal Performance Shaders) is available\n",
    "device = torch.device(\"mps\") if torch.backends.mps.is_available() else torch.device(\"cpu\")\n",
    "print(f\"Using device: {device}\")"
   ]
  },
  {
   "cell_type": "code",
   "execution_count": 11,
   "id": "19bd4088",
   "metadata": {},
   "outputs": [
    {
     "name": "stdout",
     "output_type": "stream",
     "text": [
      "Tensor 1:\n",
      " [[1. 2.]\n",
      " [3. 4.]]\n",
      "Tensor 2:\n",
      " [[5. 6.]\n",
      " [7. 8.]]\n"
     ]
    }
   ],
   "source": [
    "# 1. Creating Tensors\n",
    "tensor_1 = torch.tensor([[1, 2], [3, 4]], dtype=torch.float32).to(device)\n",
    "tensor_2 = torch.tensor([[5, 6], [7, 8]], dtype=torch.float32).to(device)\n",
    "\n",
    "print(\"Tensor 1:\\n\", tensor_1.cpu().numpy())  # Moving to CPU for printing\n",
    "print(\"Tensor 2:\\n\", tensor_2.cpu().numpy())"
   ]
  },
  {
   "cell_type": "code",
   "execution_count": 12,
   "id": "2f3ac300",
   "metadata": {},
   "outputs": [
    {
     "name": "stdout",
     "output_type": "stream",
     "text": [
      "Sum:\n",
      " [[ 6.  8.]\n",
      " [10. 12.]]\n",
      "Difference:\n",
      " [[-4. -4.]\n",
      " [-4. -4.]]\n",
      "Element-wise Product:\n",
      " [[ 5. 12.]\n",
      " [21. 32.]]\n",
      "Element-wise Division:\n",
      " [[0.2        0.33333334]\n",
      " [0.42857143 0.5       ]]\n"
     ]
    }
   ],
   "source": [
    "# 2. Basic Arithmetic Operations\n",
    "sum_tensor = tensor_1 + tensor_2\n",
    "diff_tensor = tensor_1 - tensor_2\n",
    "prod_tensor = tensor_1 * tensor_2  # Element-wise multiplication\n",
    "div_tensor = tensor_1 / tensor_2   # Element-wise division\n",
    "\n",
    "print(\"Sum:\\n\", sum_tensor.cpu().numpy())\n",
    "print(\"Difference:\\n\", diff_tensor.cpu().numpy())\n",
    "print(\"Element-wise Product:\\n\", prod_tensor.cpu().numpy())\n",
    "print(\"Element-wise Division:\\n\", div_tensor.cpu().numpy())"
   ]
  },
  {
   "cell_type": "code",
   "execution_count": 13,
   "id": "c20e1d49",
   "metadata": {},
   "outputs": [
    {
     "name": "stdout",
     "output_type": "stream",
     "text": [
      "Matrix Multiplication:\n",
      " [[19. 22.]\n",
      " [43. 50.]]\n"
     ]
    }
   ],
   "source": [
    "# 3. Matrix Multiplication\n",
    "matmul_result = torch.matmul(tensor_1, tensor_2)\n",
    "print(\"Matrix Multiplication:\\n\", matmul_result.cpu().numpy())"
   ]
  },
  {
   "cell_type": "code",
   "execution_count": 14,
   "id": "9077a545",
   "metadata": {},
   "outputs": [
    {
     "name": "stdout",
     "output_type": "stream",
     "text": [
      "Reshaped Tensor:\n",
      " [[1.]\n",
      " [2.]\n",
      " [3.]\n",
      " [4.]]\n"
     ]
    }
   ],
   "source": [
    "# 4. Reshaping Tensors\n",
    "reshaped_tensor = tensor_1.view(4, 1)\n",
    "print(\"Reshaped Tensor:\\n\", reshaped_tensor.cpu().numpy())"
   ]
  },
  {
   "cell_type": "code",
   "execution_count": 15,
   "id": "3b332121",
   "metadata": {},
   "outputs": [
    {
     "name": "stdout",
     "output_type": "stream",
     "text": [
      "Stacked Tensor:\n",
      " [[[1. 2.]\n",
      "  [3. 4.]]\n",
      "\n",
      " [[5. 6.]\n",
      "  [7. 8.]]]\n"
     ]
    }
   ],
   "source": [
    "# 5. Stacking Tensors\n",
    "stacked_tensor = torch.stack((tensor_1, tensor_2), dim=0)\n",
    "print(\"Stacked Tensor:\\n\", stacked_tensor.cpu().numpy())"
   ]
  },
  {
   "cell_type": "code",
   "execution_count": 16,
   "id": "585abec1",
   "metadata": {},
   "outputs": [
    {
     "name": "stdout",
     "output_type": "stream",
     "text": [
      "Indexed Tensor (Second Column):\n",
      " [2. 4.]\n"
     ]
    }
   ],
   "source": [
    "# 6. Slicing & Indexing\n",
    "indexed_tensor = tensor_1[:, 1]\n",
    "print(\"Indexed Tensor (Second Column):\\n\", indexed_tensor.cpu().numpy())"
   ]
  },
  {
   "cell_type": "code",
   "execution_count": 17,
   "id": "718fafe1",
   "metadata": {},
   "outputs": [
    {
     "name": "stdout",
     "output_type": "stream",
     "text": [
      "Gradient of y with respect to x: tensor(8.)\n"
     ]
    }
   ],
   "source": [
    "# 7. AutoGrad & Backpropagation (ensure it's done on CPU since MPS may have limitations)\n",
    "x = torch.tensor(3.0, requires_grad=True)\n",
    "y = x ** 2 + 2 * x + 1  # Function: f(x) = x^2 + 2x + 1\n",
    "y.backward()  # Computes dy/dx\n",
    "print(\"Gradient of y with respect to x:\", x.grad)"
   ]
  },
  {
   "cell_type": "code",
   "execution_count": 18,
   "id": "a5573153",
   "metadata": {},
   "outputs": [
    {
     "name": "stdout",
     "output_type": "stream",
     "text": [
      "Random Tensor:\n",
      " [[0.93593764 0.6900867  0.984221  ]\n",
      " [0.49475253 0.9059149  0.01065338]\n",
      " [0.9662694  0.12467003 0.01248527]]\n"
     ]
    }
   ],
   "source": [
    "# 8. Random Tensors\n",
    "rand_tensor = torch.rand((3, 3), device=device)\n",
    "print(\"Random Tensor:\\n\", rand_tensor.cpu().numpy())"
   ]
  },
  {
   "cell_type": "code",
   "execution_count": 19,
   "id": "5f8dffe4",
   "metadata": {},
   "outputs": [
    {
     "name": "stdout",
     "output_type": "stream",
     "text": [
      "Loaded Tensor:\n",
      " [[1. 2.]\n",
      " [3. 4.]]\n"
     ]
    },
    {
     "name": "stderr",
     "output_type": "stream",
     "text": [
      "/var/folders/85/k6n4vd4179v0s7gvq1lm7jgw0000gn/T/ipykernel_2775/1491058499.py:3: FutureWarning: You are using `torch.load` with `weights_only=False` (the current default value), which uses the default pickle module implicitly. It is possible to construct malicious pickle data which will execute arbitrary code during unpickling (See https://github.com/pytorch/pytorch/blob/main/SECURITY.md#untrusted-models for more details). In a future release, the default value for `weights_only` will be flipped to `True`. This limits the functions that could be executed during unpickling. Arbitrary objects will no longer be allowed to be loaded via this mode unless they are explicitly allowlisted by the user via `torch.serialization.add_safe_globals`. We recommend you start setting `weights_only=True` for any use case where you don't have full control of the loaded file. Please open an issue on GitHub for any issues related to this experimental feature.\n",
      "  loaded_tensor = torch.load(\"tensor.pth\").to(device)\n"
     ]
    }
   ],
   "source": [
    "# 9. Saving and Loading Tensors\n",
    "torch.save(tensor_1.cpu(), \"tensor.pth\")  # Save on CPU to avoid compatibility issues\n",
    "loaded_tensor = torch.load(\"tensor.pth\").to(device)\n",
    "print(\"Loaded Tensor:\\n\", loaded_tensor.cpu().numpy())"
   ]
  },
  {
   "cell_type": "code",
   "execution_count": null,
   "id": "b73d995c",
   "metadata": {},
   "outputs": [],
   "source": []
  }
 ],
 "metadata": {
  "kernelspec": {
   "display_name": "Python 3 (ipykernel)",
   "language": "python",
   "name": "python3"
  },
  "language_info": {
   "codemirror_mode": {
    "name": "ipython",
    "version": 3
   },
   "file_extension": ".py",
   "mimetype": "text/x-python",
   "name": "python",
   "nbconvert_exporter": "python",
   "pygments_lexer": "ipython3",
   "version": "3.11.8"
  }
 },
 "nbformat": 4,
 "nbformat_minor": 5
}
