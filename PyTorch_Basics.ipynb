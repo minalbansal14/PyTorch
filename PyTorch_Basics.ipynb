{
 "cells": [
  {
   "cell_type": "markdown",
   "id": "50854a14",
   "metadata": {},
   "source": [
    "# $\\color{orangered}{\\textbf{PyTorch Basics with MNIST Dataset}}$\n",
    "\n",
    "**We will train a neural network that predicts if an input image belongs to one of the following classes: T-shirt/top, Trouser, Pullover, Dress, Coat, Sandal, Shirt, Sneaker, Bag, or Ankle boot**\n"
   ]
  },
  {
   "cell_type": "markdown",
   "id": "62f1b28a",
   "metadata": {},
   "source": [
    "# PyTorch Premitives: Dataset and Data loader"
   ]
  },
  {
   "cell_type": "code",
   "execution_count": 6,
   "id": "0303cb87",
   "metadata": {},
   "outputs": [],
   "source": [
    "import torch #importing Pytorch"
   ]
  },
  {
   "cell_type": "markdown",
   "id": "e3a72566",
   "metadata": {},
   "source": [
    "### torch.nn Module:\n",
    "\n",
    "**The torch.nn module provides classes and functions to define and train neural networks more easily. It contains in-built layers for neural networks, such as:**\n",
    "\n",
    "- **nn.Linear: Fully connected (dense) layers.**\n",
    "- **nn.Conv2d: Convolutional layers for image data.**\n",
    "- **nn.ReLU: Rectified Linear Unit activation function.**\n",
    "- **nn.LSTM: Long Short-Term Memory layer for sequence data.**"
   ]
  },
  {
   "cell_type": "code",
   "execution_count": 7,
   "id": "f90d7b8a",
   "metadata": {},
   "outputs": [],
   "source": [
    "from torch import nn"
   ]
  },
  {
   "cell_type": "code",
   "execution_count": 8,
   "id": "54396ef5",
   "metadata": {},
   "outputs": [],
   "source": [
    "from torch.utils.data import DataLoader\n",
    "from torchvision import datasets"
   ]
  },
  {
   "cell_type": "markdown",
   "id": "4090e4ff",
   "metadata": {},
   "source": [
    "**Dataset** stores the samples and their corresponding labels, and **DataLoader** wraps an iterable around the Dataset.\n",
    "\n",
    "- PyTorch offers domain-specific libraries such as **TorchText, TorchVision, and TorchAudio**, all of which include datasets. \n",
    "- The **torchvision.datasets** module contains Dataset objects for many real-world vision data like CIFAR, COCO. In this tutorial, we use the FashionMNIST dataset. Every TorchVision Dataset includes two arguments: **transform and target_transform** to modify the samples and labels respectively."
   ]
  },
  {
   "cell_type": "markdown",
   "id": "9cf87156",
   "metadata": {},
   "source": [
    "### ToTensor module\n",
    "\n",
    "**ToTensor is a transformation provided by PyTorch's torchvision library, which is primarily used to preprocess image data before feeding it into a neural network.**\n",
    "\n",
    "- **Converts Images to Tensors**: It converts image data (usually in PIL format or NumPy arrays) into PyTorch tensors. This is essential because PyTorch models work with tensors, not image files or other formats\n",
    "- **Scales Pixel Values**: It scales the pixel values from the range [0, 255] (for 8-bit images) to the range [0.0, 1.0] as floating-point numbers\n",
    "- **For grayscale and RGB images:** A single-channel grayscale image becomes a tensor of shape (1, H, W). An RGB image becomes a tensor of shape (3, H, W) (3 channels for Red, Green, and Blue)"
   ]
  },
  {
   "cell_type": "code",
   "execution_count": 9,
   "id": "22ea77a2",
   "metadata": {},
   "outputs": [],
   "source": [
    "from torchvision.transforms import ToTensor"
   ]
  },
  {
   "cell_type": "code",
   "execution_count": null,
   "id": "206bd0c4",
   "metadata": {},
   "outputs": [],
   "source": []
  }
 ],
 "metadata": {
  "kernelspec": {
   "display_name": "Python 3 (ipykernel)",
   "language": "python",
   "name": "python3"
  },
  "language_info": {
   "codemirror_mode": {
    "name": "ipython",
    "version": 3
   },
   "file_extension": ".py",
   "mimetype": "text/x-python",
   "name": "python",
   "nbconvert_exporter": "python",
   "pygments_lexer": "ipython3",
   "version": "3.11.8"
  }
 },
 "nbformat": 4,
 "nbformat_minor": 5
}
