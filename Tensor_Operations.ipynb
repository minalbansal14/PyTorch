{
 "cells": [
  {
   "cell_type": "markdown",
   "id": "045d5733",
   "metadata": {},
   "source": [
    "## $\\color{orangered}{\\textbf{Tesnor Operations - PyTorch(1)}}$"
   ]
  },
  {
   "cell_type": "code",
   "execution_count": 1,
   "id": "b4871a69",
   "metadata": {},
   "outputs": [],
   "source": [
    "import torch"
   ]
  },
  {
   "cell_type": "code",
   "execution_count": 2,
   "id": "370f89ae",
   "metadata": {},
   "outputs": [],
   "source": [
    "tensor0d = torch.tensor(1)     #Creates a zero-dimensional tensor (scalar) from a Python integer\n",
    " \n",
    "tensor1d = torch.tensor([1, 2, 3])    #Creates a one-dimensional tensor (vector) from a Python list\n",
    "\n",
    "tensor2d = torch.tensor([[1, 2], \n",
    "                         [3, 4]])     #Creates a two-dimensional tensor from a nested Python list\n",
    "\n",
    "tensor3d = torch.tensor([[[1, 2], [3, 4]], \n",
    "                         [[5, 6], [7, 8]]])    #Creates a three-dimensional tensor from a nested Python list"
   ]
  },
  {
   "cell_type": "code",
   "execution_count": 10,
   "id": "dd192584",
   "metadata": {},
   "outputs": [
    {
     "data": {
      "text/plain": [
       "tensor(1)"
      ]
     },
     "execution_count": 10,
     "metadata": {},
     "output_type": "execute_result"
    }
   ],
   "source": [
    "tensor0d"
   ]
  },
  {
   "cell_type": "code",
   "execution_count": 11,
   "id": "2795b0b4",
   "metadata": {},
   "outputs": [
    {
     "data": {
      "text/plain": [
       "tensor([1, 2, 3])"
      ]
     },
     "execution_count": 11,
     "metadata": {},
     "output_type": "execute_result"
    }
   ],
   "source": [
    "tensor1d"
   ]
  },
  {
   "cell_type": "code",
   "execution_count": 12,
   "id": "9c21216d",
   "metadata": {},
   "outputs": [
    {
     "data": {
      "text/plain": [
       "tensor([[1, 2],\n",
       "        [3, 4]])"
      ]
     },
     "execution_count": 12,
     "metadata": {},
     "output_type": "execute_result"
    }
   ],
   "source": [
    "tensor2d\n"
   ]
  },
  {
   "cell_type": "code",
   "execution_count": 13,
   "id": "a186c646",
   "metadata": {},
   "outputs": [
    {
     "data": {
      "text/plain": [
       "tensor([[[1, 2],\n",
       "         [3, 4]],\n",
       "\n",
       "        [[5, 6],\n",
       "         [7, 8]]])"
      ]
     },
     "execution_count": 13,
     "metadata": {},
     "output_type": "execute_result"
    }
   ],
   "source": [
    "tensor3d"
   ]
  },
  {
   "cell_type": "code",
   "execution_count": 15,
   "id": "e8d20043",
   "metadata": {},
   "outputs": [
    {
     "data": {
      "text/plain": [
       "tensor([1, 2, 3])"
      ]
     },
     "execution_count": 15,
     "metadata": {},
     "output_type": "execute_result"
    }
   ],
   "source": [
    "tensor0d * tensor1d"
   ]
  },
  {
   "cell_type": "code",
   "execution_count": 16,
   "id": "6867f68b",
   "metadata": {},
   "outputs": [
    {
     "ename": "RuntimeError",
     "evalue": "The size of tensor a (3) must match the size of tensor b (2) at non-singleton dimension 1",
     "output_type": "error",
     "traceback": [
      "\u001b[0;31m---------------------------------------------------------------------------\u001b[0m",
      "\u001b[0;31mRuntimeError\u001b[0m                              Traceback (most recent call last)",
      "Cell \u001b[0;32mIn[16], line 1\u001b[0m\n\u001b[0;32m----> 1\u001b[0m tensor1d\u001b[38;5;241m*\u001b[39mtensor2d\n",
      "\u001b[0;31mRuntimeError\u001b[0m: The size of tensor a (3) must match the size of tensor b (2) at non-singleton dimension 1"
     ]
    }
   ],
   "source": [
    "tensor1d*tensor2d"
   ]
  },
  {
   "cell_type": "code",
   "execution_count": 18,
   "id": "4a33de5f",
   "metadata": {},
   "outputs": [
    {
     "data": {
      "text/plain": [
       "tensor([[[ 1,  4],\n",
       "         [ 9, 16]],\n",
       "\n",
       "        [[ 5, 12],\n",
       "         [21, 32]]])"
      ]
     },
     "execution_count": 18,
     "metadata": {},
     "output_type": "execute_result"
    }
   ],
   "source": [
    "tensor2d*tensor3d"
   ]
  },
  {
   "cell_type": "markdown",
   "id": "1c39440b",
   "metadata": {},
   "source": [
    "### $\\color{orangered}{\\textbf{Tensor Transpose operation: .T}}$"
   ]
  },
  {
   "cell_type": "code",
   "execution_count": 19,
   "id": "90ef7c10",
   "metadata": {},
   "outputs": [
    {
     "data": {
      "text/plain": [
       "tensor([[1, 3],\n",
       "        [2, 4]])"
      ]
     },
     "execution_count": 19,
     "metadata": {},
     "output_type": "execute_result"
    }
   ],
   "source": [
    "tensor2d.T"
   ]
  },
  {
   "cell_type": "code",
   "execution_count": 20,
   "id": "5bf895b9",
   "metadata": {},
   "outputs": [
    {
     "name": "stderr",
     "output_type": "stream",
     "text": [
      "/var/folders/85/k6n4vd4179v0s7gvq1lm7jgw0000gn/T/ipykernel_46828/4138490363.py:1: UserWarning: The use of `x.T` on tensors of dimension other than 2 to reverse their shape is deprecated and it will throw an error in a future release. Consider `x.mT` to transpose batches of matrices or `x.permute(*torch.arange(x.ndim - 1, -1, -1))` to reverse the dimensions of a tensor. (Triggered internally at /Users/runner/work/pytorch/pytorch/pytorch/aten/src/ATen/native/TensorShape.cpp:3687.)\n",
      "  tensor3d.T\n"
     ]
    },
    {
     "data": {
      "text/plain": [
       "tensor([[[1, 5],\n",
       "         [3, 7]],\n",
       "\n",
       "        [[2, 6],\n",
       "         [4, 8]]])"
      ]
     },
     "execution_count": 20,
     "metadata": {},
     "output_type": "execute_result"
    }
   ],
   "source": [
    "tensor3d.T"
   ]
  },
  {
   "cell_type": "markdown",
   "id": "8cae28c0",
   "metadata": {},
   "source": [
    "### $\\color{orangered}{\\textbf{Changing Tensor elements: \".reshape\" and \".view\"}}$\n",
    "\n",
    "The subtle difference between .view() and .reshape() in PyTorch lies in their handling of memory layout: .view() requires the original data to be contiguous and will fail if it isn’t, whereas .reshape() will work regardless, copying the data if necessary to ensure the desired shape."
   ]
  },
  {
   "cell_type": "code",
   "execution_count": 26,
   "id": "a3d5b2fd",
   "metadata": {},
   "outputs": [
    {
     "data": {
      "text/plain": [
       "tensor([[1, 2, 3],\n",
       "        [4, 5, 6]])"
      ]
     },
     "execution_count": 26,
     "metadata": {},
     "output_type": "execute_result"
    }
   ],
   "source": [
    "tensor2d = torch.tensor([[1, 2, 3], \n",
    "                         [4, 5, 6]])\n",
    "tensor2d"
   ]
  },
  {
   "cell_type": "code",
   "execution_count": 27,
   "id": "be658b5c",
   "metadata": {},
   "outputs": [
    {
     "data": {
      "text/plain": [
       "torch.Size([2, 3])"
      ]
     },
     "execution_count": 27,
     "metadata": {},
     "output_type": "execute_result"
    }
   ],
   "source": [
    "tensor2d.shape #shape attribute allows us to access the shape of a tensor means 2nd tesnor has 2 rows and 2 coloumns "
   ]
  },
  {
   "cell_type": "markdown",
   "id": "37984fbd",
   "metadata": {},
   "source": [
    "As you can see, **.shape** returns [2, 3], meaning the tensor has two rows and three columns. To **reshape** the tensor into a 3 × 2 tensor, we can use the .reshape method:\n",
    "\n"
   ]
  },
  {
   "cell_type": "code",
   "execution_count": 28,
   "id": "d370e5e0",
   "metadata": {},
   "outputs": [
    {
     "data": {
      "text/plain": [
       "tensor([[1, 2],\n",
       "        [3, 4],\n",
       "        [5, 6]])"
      ]
     },
     "execution_count": 28,
     "metadata": {},
     "output_type": "execute_result"
    }
   ],
   "source": [
    "tensor2d.reshape(3, 2) "
   ]
  },
  {
   "cell_type": "code",
   "execution_count": null,
   "id": "194a48c6",
   "metadata": {},
   "outputs": [],
   "source": []
  }
 ],
 "metadata": {
  "kernelspec": {
   "display_name": "Python 3 (ipykernel)",
   "language": "python",
   "name": "python3"
  },
  "language_info": {
   "codemirror_mode": {
    "name": "ipython",
    "version": 3
   },
   "file_extension": ".py",
   "mimetype": "text/x-python",
   "name": "python",
   "nbconvert_exporter": "python",
   "pygments_lexer": "ipython3",
   "version": "3.11.8"
  }
 },
 "nbformat": 4,
 "nbformat_minor": 5
}
